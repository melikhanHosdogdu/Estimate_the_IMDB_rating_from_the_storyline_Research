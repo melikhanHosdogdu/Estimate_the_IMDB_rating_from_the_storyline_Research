{
  "nbformat": 4,
  "nbformat_minor": 0,
  "metadata": {
    "colab": {
      "name": "iMDB_AI_Project_GitHub.ipynb",
      "provenance": []
    },
    "kernelspec": {
      "name": "python3",
      "display_name": "Python 3"
    }
  },
  "cells": [
    {
      "cell_type": "code",
      "metadata": {
        "id": "6MXNe5tBMV0w",
        "colab_type": "code",
        "colab": {}
      },
      "source": [
        "import pandas as pd\n",
        "import numpy as np\n",
        "import ast"
      ],
      "execution_count": 0,
      "outputs": []
    },
    {
      "cell_type": "code",
      "metadata": {
        "id": "Ok8jaT85Or6_",
        "colab_type": "code",
        "colab": {}
      },
      "source": [
        "from sklearn.utils import shuffle"
      ],
      "execution_count": 0,
      "outputs": []
    },
    {
      "cell_type": "code",
      "metadata": {
        "id": "eTV2sF78RIqE",
        "colab_type": "code",
        "colab": {}
      },
      "source": [
        "from tensorflow.python.keras.models import Sequential\n",
        "from tensorflow.python.keras.layers import Dense, GRU, Embedding, CuDNNGRU\n",
        "from tensorflow.python.keras.optimizers import Adam\n",
        "from tensorflow.python.keras.preprocessing.text import Tokenizer"
      ],
      "execution_count": 0,
      "outputs": []
    },
    {
      "cell_type": "code",
      "metadata": {
        "id": "9edsqkK2ZOl6",
        "colab_type": "code",
        "colab": {}
      },
      "source": [
        "data = pd.read_csv('/content/iMDB Films Datas - iMDB Films Datas.csv')\n",
        "# Dataset link // https://www.kaggle.com/melikhanhosdogdu/imdb-movies-comprehensive-dataset"
      ],
      "execution_count": 0,
      "outputs": []
    },
    {
      "cell_type": "code",
      "metadata": {
        "id": "PAQaogpCcBbV",
        "colab_type": "code",
        "outputId": "3a39b3be-68d0-45fd-e7c7-7a9dadb52cd9",
        "colab": {
          "base_uri": "https://localhost:8080/",
          "height": 34
        }
      },
      "source": [
        "len(data)"
      ],
      "execution_count": 0,
      "outputs": [
        {
          "output_type": "execute_result",
          "data": {
            "text/plain": [
              "9754"
            ]
          },
          "metadata": {
            "tags": []
          },
          "execution_count": 49
        }
      ]
    },
    {
      "cell_type": "code",
      "metadata": {
        "id": "wwMyeXslZlkj",
        "colab_type": "code",
        "colab": {}
      },
      "source": [
        "data.loc[data['imdbRaiting'] <= 5 , 'imdbRaiting'] = 0"
      ],
      "execution_count": 0,
      "outputs": []
    },
    {
      "cell_type": "code",
      "metadata": {
        "id": "kSXl4IItZa09",
        "colab_type": "code",
        "colab": {}
      },
      "source": [
        "data.loc[data['imdbRaiting'] >= 7 , 'imdbRaiting'] = 1"
      ],
      "execution_count": 0,
      "outputs": []
    },
    {
      "cell_type": "code",
      "metadata": {
        "id": "P--jUcrIaQGX",
        "colab_type": "code",
        "outputId": "a6197a8a-4bcb-4e57-9b76-c2b1d1467b91",
        "colab": {
          "base_uri": "https://localhost:8080/",
          "height": 204
        }
      },
      "source": [
        "data.head()"
      ],
      "execution_count": 0,
      "outputs": [
        {
          "output_type": "execute_result",
          "data": {
            "text/html": [
              "<div>\n",
              "<style scoped>\n",
              "    .dataframe tbody tr th:only-of-type {\n",
              "        vertical-align: middle;\n",
              "    }\n",
              "\n",
              "    .dataframe tbody tr th {\n",
              "        vertical-align: top;\n",
              "    }\n",
              "\n",
              "    .dataframe thead th {\n",
              "        text-align: right;\n",
              "    }\n",
              "</style>\n",
              "<table border=\"1\" class=\"dataframe\">\n",
              "  <thead>\n",
              "    <tr style=\"text-align: right;\">\n",
              "      <th></th>\n",
              "      <th>imdbRaiting</th>\n",
              "      <th>storyline</th>\n",
              "    </tr>\n",
              "  </thead>\n",
              "  <tbody>\n",
              "    <tr>\n",
              "      <th>0</th>\n",
              "      <td>1.0</td>\n",
              "      <td>Chronicles the experiences of a formerly succe...</td>\n",
              "    </tr>\n",
              "    <tr>\n",
              "      <th>1</th>\n",
              "      <td>1.0</td>\n",
              "      <td>Set within a year after the events of Batman B...</td>\n",
              "    </tr>\n",
              "    <tr>\n",
              "      <th>2</th>\n",
              "      <td>1.0</td>\n",
              "      <td>Dom Cobb is a skilled thief, the absolute best...</td>\n",
              "    </tr>\n",
              "    <tr>\n",
              "      <th>3</th>\n",
              "      <td>1.0</td>\n",
              "      <td>A nameless first person narrator (Edward Norto...</td>\n",
              "    </tr>\n",
              "    <tr>\n",
              "      <th>4</th>\n",
              "      <td>1.0</td>\n",
              "      <td>Jules Winnfield (Samuel L. Jackson) and Vincen...</td>\n",
              "    </tr>\n",
              "  </tbody>\n",
              "</table>\n",
              "</div>"
            ],
            "text/plain": [
              "   imdbRaiting                                          storyline\n",
              "0          1.0  Chronicles the experiences of a formerly succe...\n",
              "1          1.0  Set within a year after the events of Batman B...\n",
              "2          1.0  Dom Cobb is a skilled thief, the absolute best...\n",
              "3          1.0  A nameless first person narrator (Edward Norto...\n",
              "4          1.0  Jules Winnfield (Samuel L. Jackson) and Vincen..."
            ]
          },
          "metadata": {
            "tags": []
          },
          "execution_count": 52
        }
      ]
    },
    {
      "cell_type": "code",
      "metadata": {
        "id": "S2e0Qx2aaSZk",
        "colab_type": "code",
        "colab": {}
      },
      "source": [
        "df_1 = data[data.imdbRaiting == 1]"
      ],
      "execution_count": 0,
      "outputs": []
    },
    {
      "cell_type": "code",
      "metadata": {
        "id": "dA8Faa31ajJM",
        "colab_type": "code",
        "outputId": "f006c916-d6a1-483d-d249-f9e56a11d46a",
        "colab": {
          "base_uri": "https://localhost:8080/",
          "height": 34
        }
      },
      "source": [
        "len(df_1)"
      ],
      "execution_count": 0,
      "outputs": [
        {
          "output_type": "execute_result",
          "data": {
            "text/plain": [
              "3342"
            ]
          },
          "metadata": {
            "tags": []
          },
          "execution_count": 54
        }
      ]
    },
    {
      "cell_type": "code",
      "metadata": {
        "id": "q6A9iqdfakr8",
        "colab_type": "code",
        "colab": {}
      },
      "source": [
        "df_0 = data[data.imdbRaiting == 0]"
      ],
      "execution_count": 0,
      "outputs": []
    },
    {
      "cell_type": "code",
      "metadata": {
        "id": "mfz-536wbCQH",
        "colab_type": "code",
        "outputId": "36d30946-13ae-46eb-98c8-2148ac826358",
        "colab": {
          "base_uri": "https://localhost:8080/",
          "height": 419
        }
      },
      "source": [
        "df_0"
      ],
      "execution_count": 0,
      "outputs": [
        {
          "output_type": "execute_result",
          "data": {
            "text/html": [
              "<div>\n",
              "<style scoped>\n",
              "    .dataframe tbody tr th:only-of-type {\n",
              "        vertical-align: middle;\n",
              "    }\n",
              "\n",
              "    .dataframe tbody tr th {\n",
              "        vertical-align: top;\n",
              "    }\n",
              "\n",
              "    .dataframe thead th {\n",
              "        text-align: right;\n",
              "    }\n",
              "</style>\n",
              "<table border=\"1\" class=\"dataframe\">\n",
              "  <thead>\n",
              "    <tr style=\"text-align: right;\">\n",
              "      <th></th>\n",
              "      <th>imdbRaiting</th>\n",
              "      <th>storyline</th>\n",
              "    </tr>\n",
              "  </thead>\n",
              "  <tbody>\n",
              "    <tr>\n",
              "      <th>505</th>\n",
              "      <td>0.0</td>\n",
              "      <td>When Anastasia Steele, a literature student, g...</td>\n",
              "    </tr>\n",
              "    <tr>\n",
              "      <th>600</th>\n",
              "      <td>0.0</td>\n",
              "      <td>After Bella recovers from the vampire attack t...</td>\n",
              "    </tr>\n",
              "    <tr>\n",
              "      <th>713</th>\n",
              "      <td>0.0</td>\n",
              "      <td>Batman and Robin are back working side-by-side...</td>\n",
              "    </tr>\n",
              "    <tr>\n",
              "      <th>751</th>\n",
              "      <td>0.0</td>\n",
              "      <td>Bella once again finds herself surrounded by d...</td>\n",
              "    </tr>\n",
              "    <tr>\n",
              "      <th>769</th>\n",
              "      <td>0.0</td>\n",
              "      <td>Bella and Edward celebrate their wedding, but,...</td>\n",
              "    </tr>\n",
              "    <tr>\n",
              "      <th>...</th>\n",
              "      <td>...</td>\n",
              "      <td>...</td>\n",
              "    </tr>\n",
              "    <tr>\n",
              "      <th>9674</th>\n",
              "      <td>0.0</td>\n",
              "      <td>Rip is the World Wrestling Federation champion...</td>\n",
              "    </tr>\n",
              "    <tr>\n",
              "      <th>9687</th>\n",
              "      <td>0.0</td>\n",
              "      <td>Danica is a successful worker at a marketing f...</td>\n",
              "    </tr>\n",
              "    <tr>\n",
              "      <th>9734</th>\n",
              "      <td>0.0</td>\n",
              "      <td>Jason Crockett is an aging, grumpy, physically...</td>\n",
              "    </tr>\n",
              "    <tr>\n",
              "      <th>9738</th>\n",
              "      <td>0.0</td>\n",
              "      <td>A young professional woman (Simpson) unwitting...</td>\n",
              "    </tr>\n",
              "    <tr>\n",
              "      <th>9740</th>\n",
              "      <td>0.0</td>\n",
              "      <td>One Morning in New England, 1940, the entire p...</td>\n",
              "    </tr>\n",
              "  </tbody>\n",
              "</table>\n",
              "<p>701 rows × 2 columns</p>\n",
              "</div>"
            ],
            "text/plain": [
              "      imdbRaiting                                          storyline\n",
              "505           0.0  When Anastasia Steele, a literature student, g...\n",
              "600           0.0  After Bella recovers from the vampire attack t...\n",
              "713           0.0  Batman and Robin are back working side-by-side...\n",
              "751           0.0  Bella once again finds herself surrounded by d...\n",
              "769           0.0  Bella and Edward celebrate their wedding, but,...\n",
              "...           ...                                                ...\n",
              "9674          0.0  Rip is the World Wrestling Federation champion...\n",
              "9687          0.0  Danica is a successful worker at a marketing f...\n",
              "9734          0.0  Jason Crockett is an aging, grumpy, physically...\n",
              "9738          0.0  A young professional woman (Simpson) unwitting...\n",
              "9740          0.0  One Morning in New England, 1940, the entire p...\n",
              "\n",
              "[701 rows x 2 columns]"
            ]
          },
          "metadata": {
            "tags": []
          },
          "execution_count": 56
        }
      ]
    },
    {
      "cell_type": "code",
      "metadata": {
        "id": "lKfYiXt3bEVU",
        "colab_type": "code",
        "colab": {}
      },
      "source": [
        "df = pd.concat([df_0, df_1], ignore_index= True)"
      ],
      "execution_count": 0,
      "outputs": []
    },
    {
      "cell_type": "code",
      "metadata": {
        "id": "EbRWz-HPek5s",
        "colab_type": "code",
        "colab": {}
      },
      "source": [
        "df = shuffle(df)"
      ],
      "execution_count": 0,
      "outputs": []
    },
    {
      "cell_type": "code",
      "metadata": {
        "id": "O8nfkCh49av8",
        "colab_type": "code",
        "outputId": "d56e34f7-f59a-476a-f721-e68745b15d70",
        "colab": {
          "base_uri": "https://localhost:8080/",
          "height": 34
        }
      },
      "source": [
        "storylineTRY = df[\"storyline\"].values.tolist()\n",
        "ortalama = list()\n",
        "for story in storylineTRY:\n",
        "  ortalama.append(len(story.split()))\n",
        "\n",
        "ortalamaSayi = sum(ortalama) / len(ortalama) \n",
        "ortalamaSayi"
      ],
      "execution_count": 0,
      "outputs": [
        {
          "output_type": "execute_result",
          "data": {
            "text/plain": [
              "95.47266881028939"
            ]
          },
          "metadata": {
            "tags": []
          },
          "execution_count": 82
        }
      ]
    },
    {
      "cell_type": "code",
      "metadata": {
        "id": "Oi5jNObtgPTk",
        "colab_type": "code",
        "outputId": "9b62b889-bdef-409b-f80d-dea5d69fd164",
        "colab": {
          "base_uri": "https://localhost:8080/",
          "height": 419
        }
      },
      "source": [
        "df"
      ],
      "execution_count": 0,
      "outputs": [
        {
          "output_type": "execute_result",
          "data": {
            "text/html": [
              "<div>\n",
              "<style scoped>\n",
              "    .dataframe tbody tr th:only-of-type {\n",
              "        vertical-align: middle;\n",
              "    }\n",
              "\n",
              "    .dataframe tbody tr th {\n",
              "        vertical-align: top;\n",
              "    }\n",
              "\n",
              "    .dataframe thead th {\n",
              "        text-align: right;\n",
              "    }\n",
              "</style>\n",
              "<table border=\"1\" class=\"dataframe\">\n",
              "  <thead>\n",
              "    <tr style=\"text-align: right;\">\n",
              "      <th></th>\n",
              "      <th>imdbRaiting</th>\n",
              "      <th>storyline</th>\n",
              "    </tr>\n",
              "  </thead>\n",
              "  <tbody>\n",
              "    <tr>\n",
              "      <th>2159</th>\n",
              "      <td>1.0</td>\n",
              "      <td>Christian is the respected curator of a contem...</td>\n",
              "    </tr>\n",
              "    <tr>\n",
              "      <th>417</th>\n",
              "      <td>0.0</td>\n",
              "      <td>Set 15 years in the future in post-earthquake ...</td>\n",
              "    </tr>\n",
              "    <tr>\n",
              "      <th>4003</th>\n",
              "      <td>1.0</td>\n",
              "      <td>Ollie Dee and Stanley Dum try to borrow money ...</td>\n",
              "    </tr>\n",
              "    <tr>\n",
              "      <th>3195</th>\n",
              "      <td>1.0</td>\n",
              "      <td>Kermit the Frog and Fozzie Bear are newspaper ...</td>\n",
              "    </tr>\n",
              "    <tr>\n",
              "      <th>2794</th>\n",
              "      <td>1.0</td>\n",
              "      <td>Details the unconventional life of Dr. William...</td>\n",
              "    </tr>\n",
              "    <tr>\n",
              "      <th>...</th>\n",
              "      <td>...</td>\n",
              "      <td>...</td>\n",
              "    </tr>\n",
              "    <tr>\n",
              "      <th>2696</th>\n",
              "      <td>1.0</td>\n",
              "      <td>A young woman, Pursy (played by Scarlett Johan...</td>\n",
              "    </tr>\n",
              "    <tr>\n",
              "      <th>1001</th>\n",
              "      <td>1.0</td>\n",
              "      <td>Following the death of his employer and mentor...</td>\n",
              "    </tr>\n",
              "    <tr>\n",
              "      <th>2460</th>\n",
              "      <td>1.0</td>\n",
              "      <td>Located in the US Rust Belt, Charlestown is ho...</td>\n",
              "    </tr>\n",
              "    <tr>\n",
              "      <th>3796</th>\n",
              "      <td>1.0</td>\n",
              "      <td>The abuse Rocky Barbella endures at the hand o...</td>\n",
              "    </tr>\n",
              "    <tr>\n",
              "      <th>648</th>\n",
              "      <td>0.0</td>\n",
              "      <td>When former black ops operative Cross (Seagal)...</td>\n",
              "    </tr>\n",
              "  </tbody>\n",
              "</table>\n",
              "<p>4043 rows × 2 columns</p>\n",
              "</div>"
            ],
            "text/plain": [
              "      imdbRaiting                                          storyline\n",
              "2159          1.0  Christian is the respected curator of a contem...\n",
              "417           0.0  Set 15 years in the future in post-earthquake ...\n",
              "4003          1.0  Ollie Dee and Stanley Dum try to borrow money ...\n",
              "3195          1.0  Kermit the Frog and Fozzie Bear are newspaper ...\n",
              "2794          1.0  Details the unconventional life of Dr. William...\n",
              "...           ...                                                ...\n",
              "2696          1.0  A young woman, Pursy (played by Scarlett Johan...\n",
              "1001          1.0  Following the death of his employer and mentor...\n",
              "2460          1.0  Located in the US Rust Belt, Charlestown is ho...\n",
              "3796          1.0  The abuse Rocky Barbella endures at the hand o...\n",
              "648           0.0  When former black ops operative Cross (Seagal)...\n",
              "\n",
              "[4043 rows x 2 columns]"
            ]
          },
          "metadata": {
            "tags": []
          },
          "execution_count": 59
        }
      ]
    },
    {
      "cell_type": "code",
      "metadata": {
        "id": "UjWgS5wogQAy",
        "colab_type": "code",
        "colab": {}
      },
      "source": [
        "df.to_csv(\"iMDB_data_last_version\", sep = \"\\t\", index = False)"
      ],
      "execution_count": 0,
      "outputs": []
    },
    {
      "cell_type": "code",
      "metadata": {
        "id": "kfebJ1yk5vDz",
        "colab_type": "code",
        "colab": {}
      },
      "source": [
        "tokenizer = Tokenizer(\n",
        "    num_words=None,\n",
        "    filters='!\"#$%&()*+,-./:;<=>?@[\\\\]^_`{|}~\\t\\n',\n",
        "    lower=True,\n",
        "    split=\" \",\n",
        "    char_level=False,\n",
        "    oov_token=None,\n",
        "    document_count=0,\n",
        ")"
      ],
      "execution_count": 0,
      "outputs": []
    },
    {
      "cell_type": "code",
      "metadata": {
        "id": "qL9ecCw46vXQ",
        "colab_type": "code",
        "colab": {}
      },
      "source": [
        "imdbRaiting = df[\"imdbRaiting\"].values.tolist()"
      ],
      "execution_count": 0,
      "outputs": []
    },
    {
      "cell_type": "code",
      "metadata": {
        "id": "Btdts_TV7nTA",
        "colab_type": "code",
        "colab": {}
      },
      "source": [
        "storyLine = df['storyline'].values.tolist()"
      ],
      "execution_count": 0,
      "outputs": []
    },
    {
      "cell_type": "code",
      "metadata": {
        "id": "lqK1q5Zs75Y-",
        "colab_type": "code",
        "colab": {}
      },
      "source": [
        "tokenizer.fit_on_texts(storyLine)"
      ],
      "execution_count": 0,
      "outputs": []
    },
    {
      "cell_type": "code",
      "metadata": {
        "id": "Tu5giMTdBC1-",
        "colab_type": "code",
        "colab": {}
      },
      "source": [
        "cutoff = int(len(storyLine) * 0.80)\n",
        "imdbRaiting_train, imdbRaiting_test = imdbRaiting[:cutoff], imdbRaiting[cutoff:]\n",
        "storyLine_train, storyLine_test = storyLine[:cutoff], storyLine[cutoff:]"
      ],
      "execution_count": 0,
      "outputs": []
    },
    {
      "cell_type": "code",
      "metadata": {
        "id": "yDEDNifTCSY6",
        "colab_type": "code",
        "outputId": "78b7d8cc-88da-49fb-b9f5-934b854ad828",
        "colab": {
          "base_uri": "https://localhost:8080/",
          "height": 34
        }
      },
      "source": [
        "print(len(imdbRaiting_train),len(imdbRaiting_test))"
      ],
      "execution_count": 0,
      "outputs": [
        {
          "output_type": "stream",
          "text": [
            "3234 809\n"
          ],
          "name": "stdout"
        }
      ]
    },
    {
      "cell_type": "code",
      "metadata": {
        "id": "mYNGvdyuGmXR",
        "colab_type": "code",
        "colab": {}
      },
      "source": [
        "with open(\"/content/tokenizer.txt\",\"r\") as txt_dosyasi:\n",
        "  txt_tokenizer = txt_dosyasi.read()"
      ],
      "execution_count": 0,
      "outputs": []
    },
    {
      "cell_type": "code",
      "metadata": {
        "id": "YDIIE7rD3Gm2",
        "colab_type": "code",
        "colab": {}
      },
      "source": [
        "txt_tokenizer = ast.literal_eval(txt_tokenizer)"
      ],
      "execution_count": 0,
      "outputs": []
    },
    {
      "cell_type": "code",
      "metadata": {
        "id": "Dctw--B11uN8",
        "colab_type": "code",
        "colab": {}
      },
      "source": [
        "def tokenlestir(listOfStoryLines):\n",
        "    storyLines = []\n",
        "    for s_storyLine in listOfStoryLines:\n",
        "        storyLine = []\n",
        "        for word in s_storyLine.split():\n",
        "            if (len(storyLine) < 95 and word in txt_tokenizer):\n",
        "                storyLine.append(txt_tokenizer[word])\n",
        "                \n",
        "        if (len(storyLine) < 95):\n",
        "            zeros = list(np.zeros(95 - len(storyLine), dtype = int))\n",
        "            storyLine = zeros + storyLine\n",
        "            \n",
        "        storyLines.append(storyLine)\n",
        "    return np.array(storyLines, dtype = np.dtype(np.int32))"
      ],
      "execution_count": 0,
      "outputs": []
    },
    {
      "cell_type": "code",
      "metadata": {
        "id": "NPb3WyjqJShl",
        "colab_type": "code",
        "colab": {}
      },
      "source": [
        "egitimKume = tokenlestir(storyLine_train)"
      ],
      "execution_count": 0,
      "outputs": []
    },
    {
      "cell_type": "code",
      "metadata": {
        "id": "oaTDEWfFJeYQ",
        "colab_type": "code",
        "outputId": "1eb5aed3-a87d-4b7a-9f4b-0912bde0cd78",
        "colab": {
          "base_uri": "https://localhost:8080/",
          "height": 204
        }
      },
      "source": [
        "egitimKume[50]"
      ],
      "execution_count": 0,
      "outputs": [
        {
          "output_type": "execute_result",
          "data": {
            "text/plain": [
              "array([    0,     0,     0,     0,     0,     0,     0,     0,     0,\n",
              "           0,     0,     0,     0,     0,     0,     0,     0,     0,\n",
              "           0,     0,     0,     0,     0,     0,     0,     0,     0,\n",
              "           0,     0,     0,     0,     0,     0,     0,     0,     0,\n",
              "           0,     0,     0,     0,   997,  2249,     5,     7,   404,\n",
              "         250,    14,     2,     6,     7,  1004,  9491,   321,    35,\n",
              "           4,     1,    56,     5,     7,  5953,    28,    50,     9,\n",
              "        2146,     2,  4168,    23,     1,   515,    12,     7,   677,\n",
              "       17355,     4,     1,    36,     8,     1,    64,     5,    16,\n",
              "        3447,     3, 12253,     6,     7,    67,   997,   590,    12,\n",
              "          50,     9,  5293,     7,   438], dtype=int32)"
            ]
          },
          "metadata": {
            "tags": []
          },
          "execution_count": 86
        }
      ]
    },
    {
      "cell_type": "code",
      "metadata": {
        "id": "lWbvA_wDJnwT",
        "colab_type": "code",
        "colab": {}
      },
      "source": [
        "testKume = tokenlestir(storyLine_test)"
      ],
      "execution_count": 0,
      "outputs": []
    },
    {
      "cell_type": "code",
      "metadata": {
        "id": "ftqW-X3BM7d-",
        "colab_type": "code",
        "outputId": "4be457ed-1bc2-4ede-ca8b-bbe531531190",
        "colab": {
          "base_uri": "https://localhost:8080/",
          "height": 34
        }
      },
      "source": [
        "len(txt_tokenizer)"
      ],
      "execution_count": 0,
      "outputs": [
        {
          "output_type": "execute_result",
          "data": {
            "text/plain": [
              "29312"
            ]
          },
          "metadata": {
            "tags": []
          },
          "execution_count": 89
        }
      ]
    },
    {
      "cell_type": "code",
      "metadata": {
        "id": "7tRpEpXeJv0r",
        "colab_type": "code",
        "outputId": "d2e0e50b-a9b6-4c02-f45e-22a219731ff2",
        "colab": {
          "base_uri": "https://localhost:8080/",
          "height": 323
        }
      },
      "source": [
        "model = Sequential()\n",
        "\n",
        "model.add(Embedding(input_dim=(len(txt_tokenizer) + 1),\n",
        "                    output_dim=95,\n",
        "                    input_length=95,\n",
        "                    name='embedding_layer'))\n",
        "\n",
        "model.add(GRU(units=16, return_sequences=True))\n",
        "model.add(GRU(units=8, return_sequences=True))\n",
        "model.add(GRU(units=4))\n",
        "model.add(Dense(1, activation='sigmoid'))\n",
        "\n",
        "optimizer = Adam(lr=1e-3)\n",
        "\n",
        "model.compile(loss='binary_crossentropy',\n",
        "              optimizer='adam',\n",
        "              metrics=['accuracy'])\n",
        "\n",
        "model.summary()"
      ],
      "execution_count": 0,
      "outputs": [
        {
          "output_type": "stream",
          "text": [
            "Model: \"sequential_2\"\n",
            "_________________________________________________________________\n",
            "Layer (type)                 Output Shape              Param #   \n",
            "=================================================================\n",
            "embedding_layer (Embedding)  (None, 95, 95)            2784735   \n",
            "_________________________________________________________________\n",
            "gru_6 (GRU)                  (None, 95, 16)            5424      \n",
            "_________________________________________________________________\n",
            "gru_7 (GRU)                  (None, 95, 8)             624       \n",
            "_________________________________________________________________\n",
            "gru_8 (GRU)                  (None, 4)                 168       \n",
            "_________________________________________________________________\n",
            "dense_2 (Dense)              (None, 1)                 5         \n",
            "=================================================================\n",
            "Total params: 2,790,956\n",
            "Trainable params: 2,790,956\n",
            "Non-trainable params: 0\n",
            "_________________________________________________________________\n"
          ],
          "name": "stdout"
        }
      ]
    },
    {
      "cell_type": "code",
      "metadata": {
        "id": "e5guBLWLRfxf",
        "colab_type": "code",
        "outputId": "8cefb12b-00af-45a0-a03d-72ec5d07277b",
        "colab": {
          "base_uri": "https://localhost:8080/",
          "height": 34
        }
      },
      "source": [
        "print(type(egitimKume), type(imdbRaiting_train))\n",
        "egitimKume = egitimKume.tolist()"
      ],
      "execution_count": 0,
      "outputs": [
        {
          "output_type": "stream",
          "text": [
            "<class 'numpy.ndarray'> <class 'list'>\n"
          ],
          "name": "stdout"
        }
      ]
    },
    {
      "cell_type": "code",
      "metadata": {
        "id": "65Tm8nHwPHCG",
        "colab_type": "code",
        "outputId": "9016a052-a07b-4fd5-f886-3b7affa58c74",
        "colab": {
          "base_uri": "https://localhost:8080/",
          "height": 204
        }
      },
      "source": [
        "model.fit(egitimKume, imdbRaiting_train, epochs=5, batch_size=256)"
      ],
      "execution_count": 0,
      "outputs": [
        {
          "output_type": "stream",
          "text": [
            "Epoch 1/5\n",
            "13/13 [==============================] - 2s 190ms/step - loss: 0.0464 - accuracy: 0.9978\n",
            "Epoch 2/5\n",
            "13/13 [==============================] - 2s 187ms/step - loss: 0.0447 - accuracy: 0.9978\n",
            "Epoch 3/5\n",
            "13/13 [==============================] - 2s 185ms/step - loss: 0.0432 - accuracy: 0.9978\n",
            "Epoch 4/5\n",
            "13/13 [==============================] - 2s 179ms/step - loss: 0.0418 - accuracy: 0.9978\n",
            "Epoch 5/5\n",
            "13/13 [==============================] - 2s 181ms/step - loss: 0.0405 - accuracy: 0.9978\n"
          ],
          "name": "stdout"
        },
        {
          "output_type": "execute_result",
          "data": {
            "text/plain": [
              "<tensorflow.python.keras.callbacks.History at 0x7f6ba291d198>"
            ]
          },
          "metadata": {
            "tags": []
          },
          "execution_count": 113
        }
      ]
    }
  ]
}